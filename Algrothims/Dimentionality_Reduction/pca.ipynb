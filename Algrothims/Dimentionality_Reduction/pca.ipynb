{
 "cells": [
  {
   "cell_type": "code",
   "execution_count": 2,
   "id": "51fd37eb",
   "metadata": {},
   "outputs": [],
   "source": [
    "import numpy as np\n",
    "import pandas as pd"
   ]
  },
  {
   "cell_type": "code",
   "execution_count": 3,
   "id": "01631d2c",
   "metadata": {},
   "outputs": [
    {
     "name": "stdout",
     "output_type": "stream",
     "text": [
      "    X1   X2   X3   X4   X5\n",
      "0  2.5  3.0  2.8  4.5  5.1\n",
      "1  3.0  3.4  3.1  4.9  5.3\n",
      "2  2.7  3.2  3.0  4.6  5.0\n",
      "3  3.2  3.8  3.3  5.1  5.6\n",
      "4  2.9  3.5  3.2  4.8  5.2\n",
      "5  3.4  4.0  3.5  5.3  5.7\n",
      "6  2.6  3.1  2.9  4.4  4.9\n",
      "7  3.1  3.7  3.4  5.0  5.4\n",
      "8  2.8  3.3  3.1  4.7  5.1\n",
      "9  3.3  3.9  3.6  5.2  5.5\n"
     ]
    }
   ],
   "source": [
    "# let say we have 10 rows and 5 features (5-D) and we  need to reduce them to 2-D\n",
    "\n",
    "data = {\n",
    "    'X1': [2.5, 3.0, 2.7, 3.2, 2.9, 3.4, 2.6, 3.1, 2.8, 3.3],\n",
    "    'X2': [3.0, 3.4, 3.2, 3.8, 3.5, 4.0, 3.1, 3.7, 3.3, 3.9],\n",
    "    'X3': [2.8, 3.1, 3.0, 3.3, 3.2, 3.5, 2.9, 3.4, 3.1, 3.6],\n",
    "    'X4': [4.5, 4.9, 4.6, 5.1, 4.8, 5.3, 4.4, 5.0, 4.7, 5.2],\n",
    "    'X5': [5.1, 5.3, 5.0, 5.6, 5.2, 5.7, 4.9, 5.4, 5.1, 5.5]\n",
    "}\n",
    "\n",
    "df = pd.DataFrame(data)\n",
    "print(df)\n"
   ]
  },
  {
   "cell_type": "code",
   "execution_count": 4,
   "id": "b57b2c20",
   "metadata": {},
   "outputs": [
    {
     "data": {
      "text/html": [
       "<div>\n",
       "<style scoped>\n",
       "    .dataframe tbody tr th:only-of-type {\n",
       "        vertical-align: middle;\n",
       "    }\n",
       "\n",
       "    .dataframe tbody tr th {\n",
       "        vertical-align: top;\n",
       "    }\n",
       "\n",
       "    .dataframe thead th {\n",
       "        text-align: right;\n",
       "    }\n",
       "</style>\n",
       "<table border=\"1\" class=\"dataframe\">\n",
       "  <thead>\n",
       "    <tr style=\"text-align: right;\">\n",
       "      <th></th>\n",
       "      <th>X1</th>\n",
       "      <th>X2</th>\n",
       "      <th>X3</th>\n",
       "      <th>X4</th>\n",
       "      <th>X5</th>\n",
       "    </tr>\n",
       "  </thead>\n",
       "  <tbody>\n",
       "    <tr>\n",
       "      <th>0</th>\n",
       "      <td>-0.45</td>\n",
       "      <td>-0.49</td>\n",
       "      <td>-0.39</td>\n",
       "      <td>-0.35</td>\n",
       "      <td>-0.18</td>\n",
       "    </tr>\n",
       "    <tr>\n",
       "      <th>1</th>\n",
       "      <td>0.05</td>\n",
       "      <td>-0.09</td>\n",
       "      <td>-0.09</td>\n",
       "      <td>0.05</td>\n",
       "      <td>0.02</td>\n",
       "    </tr>\n",
       "    <tr>\n",
       "      <th>2</th>\n",
       "      <td>-0.25</td>\n",
       "      <td>-0.29</td>\n",
       "      <td>-0.19</td>\n",
       "      <td>-0.25</td>\n",
       "      <td>-0.28</td>\n",
       "    </tr>\n",
       "    <tr>\n",
       "      <th>3</th>\n",
       "      <td>0.25</td>\n",
       "      <td>0.31</td>\n",
       "      <td>0.11</td>\n",
       "      <td>0.25</td>\n",
       "      <td>0.32</td>\n",
       "    </tr>\n",
       "    <tr>\n",
       "      <th>4</th>\n",
       "      <td>-0.05</td>\n",
       "      <td>0.01</td>\n",
       "      <td>0.01</td>\n",
       "      <td>-0.05</td>\n",
       "      <td>-0.08</td>\n",
       "    </tr>\n",
       "  </tbody>\n",
       "</table>\n",
       "</div>"
      ],
      "text/plain": [
       "     X1    X2    X3    X4    X5\n",
       "0 -0.45 -0.49 -0.39 -0.35 -0.18\n",
       "1  0.05 -0.09 -0.09  0.05  0.02\n",
       "2 -0.25 -0.29 -0.19 -0.25 -0.28\n",
       "3  0.25  0.31  0.11  0.25  0.32\n",
       "4 -0.05  0.01  0.01 -0.05 -0.08"
      ]
     },
     "execution_count": 4,
     "metadata": {},
     "output_type": "execute_result"
    }
   ],
   "source": [
    "# Step -1 mean centering \n",
    "for col in df.columns:\n",
    "    df[col]=df[col] - df[col].mean()\n",
    "\n",
    "df.head()"
   ]
  },
  {
   "cell_type": "code",
   "execution_count": 6,
   "id": "72c4d13e",
   "metadata": {},
   "outputs": [
    {
     "data": {
      "text/html": [
       "<div>\n",
       "<style scoped>\n",
       "    .dataframe tbody tr th:only-of-type {\n",
       "        vertical-align: middle;\n",
       "    }\n",
       "\n",
       "    .dataframe tbody tr th {\n",
       "        vertical-align: top;\n",
       "    }\n",
       "\n",
       "    .dataframe thead th {\n",
       "        text-align: right;\n",
       "    }\n",
       "</style>\n",
       "<table border=\"1\" class=\"dataframe\">\n",
       "  <thead>\n",
       "    <tr style=\"text-align: right;\">\n",
       "      <th></th>\n",
       "      <th>X1</th>\n",
       "      <th>X2</th>\n",
       "      <th>X3</th>\n",
       "      <th>X4</th>\n",
       "      <th>X5</th>\n",
       "    </tr>\n",
       "  </thead>\n",
       "  <tbody>\n",
       "    <tr>\n",
       "      <th>X1</th>\n",
       "      <td>0.091667</td>\n",
       "      <td>0.103889</td>\n",
       "      <td>0.075000</td>\n",
       "      <td>0.090556</td>\n",
       "      <td>0.075556</td>\n",
       "    </tr>\n",
       "    <tr>\n",
       "      <th>X2</th>\n",
       "      <td>0.103889</td>\n",
       "      <td>0.121000</td>\n",
       "      <td>0.087667</td>\n",
       "      <td>0.102778</td>\n",
       "      <td>0.086444</td>\n",
       "    </tr>\n",
       "    <tr>\n",
       "      <th>X3</th>\n",
       "      <td>0.075000</td>\n",
       "      <td>0.087667</td>\n",
       "      <td>0.067667</td>\n",
       "      <td>0.073889</td>\n",
       "      <td>0.058667</td>\n",
       "    </tr>\n",
       "    <tr>\n",
       "      <th>X4</th>\n",
       "      <td>0.090556</td>\n",
       "      <td>0.102778</td>\n",
       "      <td>0.073889</td>\n",
       "      <td>0.091667</td>\n",
       "      <td>0.077778</td>\n",
       "    </tr>\n",
       "    <tr>\n",
       "      <th>X5</th>\n",
       "      <td>0.075556</td>\n",
       "      <td>0.086444</td>\n",
       "      <td>0.058667</td>\n",
       "      <td>0.077778</td>\n",
       "      <td>0.070667</td>\n",
       "    </tr>\n",
       "  </tbody>\n",
       "</table>\n",
       "</div>"
      ],
      "text/plain": [
       "          X1        X2        X3        X4        X5\n",
       "X1  0.091667  0.103889  0.075000  0.090556  0.075556\n",
       "X2  0.103889  0.121000  0.087667  0.102778  0.086444\n",
       "X3  0.075000  0.087667  0.067667  0.073889  0.058667\n",
       "X4  0.090556  0.102778  0.073889  0.091667  0.077778\n",
       "X5  0.075556  0.086444  0.058667  0.077778  0.070667"
      ]
     },
     "execution_count": 6,
     "metadata": {},
     "output_type": "execute_result"
    }
   ],
   "source": [
    "# step -2 Convariance Matrix\n",
    "n=df.shape[0]\n",
    "cov_mat= (1/(n-1))*(df.T@df)\n",
    "cov_mat"
   ]
  },
  {
   "cell_type": "code",
   "execution_count": 7,
   "id": "07ad25a2",
   "metadata": {},
   "outputs": [
    {
     "name": "stdout",
     "output_type": "stream",
     "text": [
      "Eigenvalues:\n",
      " [4.27647367e-01 1.13347640e-02 1.92661319e-04 1.97675754e-03\n",
      " 1.51511678e-03]\n",
      "\n",
      "Eigenvectors (each column is a vector):\n",
      " [[-0.46017598  0.04203021  0.44066278  0.57458963  0.51199081]\n",
      " [-0.52884708  0.20224212 -0.41664526 -0.53567622  0.46784249]\n",
      " [-0.38236078  0.63896886  0.35499497 -0.13645026 -0.54852432]\n",
      " [-0.45982629 -0.20421535 -0.59129819  0.4721527  -0.41748551]\n",
      " [-0.38848275 -0.71228258  0.39568681 -0.37596661 -0.20932208]]\n"
     ]
    }
   ],
   "source": [
    "# step -3 finding eigen value and eigen vectors\n",
    "# Compute eigenvalues and eigenvectors\n",
    "eigenvalues, eigenvectors = np.linalg.eig(cov_mat)\n",
    "print(\"Eigenvalues:\\n\", eigenvalues)\n",
    "print(\"\\nEigenvectors (each column is a vector):\\n\", eigenvectors)"
   ]
  },
  {
   "cell_type": "code",
   "execution_count": 12,
   "id": "4af6a80b",
   "metadata": {},
   "outputs": [
    {
     "name": "stdout",
     "output_type": "stream",
     "text": [
      "Top 2 eigen values: [0.42764737 0.01133476]\n",
      "Top 2 eigen vectors:\n",
      "[[-0.46017598  0.04203021]\n",
      " [-0.52884708  0.20224212]\n",
      " [-0.38236078  0.63896886]\n",
      " [-0.45982629 -0.20421535]\n",
      " [-0.38848275 -0.71228258]]\n"
     ]
    }
   ],
   "source": [
    "# step -4 finding top k (say 2) eigen values and their corresponding eigne vectors\n",
    "\n",
    "k=2\n",
    "# sorting in descending order\n",
    "sorted_indices=np.argsort(eigenvalues)[::-1]\n",
    "topk_indices=sorted_indices[:k]\n",
    "\n",
    "# Select top k eigenvalues and eigenvectors\n",
    "\n",
    "topk_eigenvalues=eigenvalues[topk_indices]\n",
    "topk_eigenvectors=eigenvectors[:,topk_indices]\n",
    "\n",
    "print(f\"Top {k} eigen values: {topk_eigenvalues}\")\n",
    "print(f\"Top {k} eigen vectors:\\n{topk_eigenvectors}\")\n"
   ]
  },
  {
   "cell_type": "code",
   "execution_count": 14,
   "id": "0528d9c0",
   "metadata": {},
   "outputs": [
    {
     "data": {
      "text/html": [
       "<div>\n",
       "<style scoped>\n",
       "    .dataframe tbody tr th:only-of-type {\n",
       "        vertical-align: middle;\n",
       "    }\n",
       "\n",
       "    .dataframe tbody tr th {\n",
       "        vertical-align: top;\n",
       "    }\n",
       "\n",
       "    .dataframe thead th {\n",
       "        text-align: right;\n",
       "    }\n",
       "</style>\n",
       "<table border=\"1\" class=\"dataframe\">\n",
       "  <thead>\n",
       "    <tr style=\"text-align: right;\">\n",
       "      <th></th>\n",
       "      <th>0</th>\n",
       "      <th>1</th>\n",
       "    </tr>\n",
       "  </thead>\n",
       "  <tbody>\n",
       "    <tr>\n",
       "      <th>0</th>\n",
       "      <td>0.846201</td>\n",
       "      <td>-0.167524</td>\n",
       "    </tr>\n",
       "    <tr>\n",
       "      <th>1</th>\n",
       "      <td>0.028239</td>\n",
       "      <td>-0.098064</td>\n",
       "    </tr>\n",
       "    <tr>\n",
       "      <th>2</th>\n",
       "      <td>0.564790</td>\n",
       "      <td>0.059931</td>\n",
       "    </tr>\n",
       "    <tr>\n",
       "      <th>3</th>\n",
       "      <td>-0.560317</td>\n",
       "      <td>-0.135495</td>\n",
       "    </tr>\n",
       "    <tr>\n",
       "      <th>4</th>\n",
       "      <td>0.067967</td>\n",
       "      <td>0.073504</td>\n",
       "    </tr>\n",
       "    <tr>\n",
       "      <th>5</th>\n",
       "      <td>-0.965408</td>\n",
       "      <td>-0.070918</td>\n",
       "    </tr>\n",
       "    <tr>\n",
       "      <th>6</th>\n",
       "      <td>0.832742</td>\n",
       "      <td>0.083678</td>\n",
       "    </tr>\n",
       "    <tr>\n",
       "      <th>7</th>\n",
       "      <td>-0.375972</td>\n",
       "      <td>0.066853</td>\n",
       "    </tr>\n",
       "    <tr>\n",
       "      <th>8</th>\n",
       "      <td>0.342821</td>\n",
       "      <td>0.056605</td>\n",
       "    </tr>\n",
       "    <tr>\n",
       "      <th>9</th>\n",
       "      <td>-0.781062</td>\n",
       "      <td>0.131430</td>\n",
       "    </tr>\n",
       "  </tbody>\n",
       "</table>\n",
       "</div>"
      ],
      "text/plain": [
       "          0         1\n",
       "0  0.846201 -0.167524\n",
       "1  0.028239 -0.098064\n",
       "2  0.564790  0.059931\n",
       "3 -0.560317 -0.135495\n",
       "4  0.067967  0.073504\n",
       "5 -0.965408 -0.070918\n",
       "6  0.832742  0.083678\n",
       "7 -0.375972  0.066853\n",
       "8  0.342821  0.056605\n",
       "9 -0.781062  0.131430"
      ]
     },
     "execution_count": 14,
     "metadata": {},
     "output_type": "execute_result"
    }
   ],
   "source": [
    "# Projections\n",
    "\n",
    "pca_df=df @ topk_eigenvectors\n",
    "\n",
    "pca_df"
   ]
  },
  {
   "cell_type": "code",
   "execution_count": 17,
   "id": "5edb590f",
   "metadata": {},
   "outputs": [
    {
     "data": {
      "image/png": "[encoded data removed]",
      "text/plain": [
       "<Figure size 640x480 with 1 Axes>"
      ]
     },
     "metadata": {},
     "output_type": "display_data"
    }
   ],
   "source": [
    "import matplotlib.pyplot as plt \n",
    "\n",
    "plt.plot(pca_df.iloc[:,0],pca_df.iloc[:,1])\n",
    "plt.show()"
   ]
  }
 ],
 "metadata": {
  "kernelspec": {
   "display_name": "base",
   "language": "python",
   "name": "python3"
  },
  "language_info": {
   "codemirror_mode": {
    "name": "ipython",
    "version": 3
   },
   "file_extension": ".py",
   "mimetype": "text/x-python",
   "name": "python",
   "nbconvert_exporter": "python",
   "pygments_lexer": "ipython3",
   "version": "3.12.7"
  }
 },
 "nbformat": 4,
 "nbformat_minor": 5
}
