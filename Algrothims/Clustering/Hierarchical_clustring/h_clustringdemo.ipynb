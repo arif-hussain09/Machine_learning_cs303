{
 "cells": [
  {
   "cell_type": "code",
   "execution_count": 2,
   "id": "badd9091",
   "metadata": {},
   "outputs": [],
   "source": [
    "import numpy as np\n",
    "import pandas as pd"
   ]
  },
  {
   "cell_type": "code",
   "execution_count": 16,
   "id": "6e91bc3b",
   "metadata": {},
   "outputs": [
    {
     "name": "stdout",
     "output_type": "stream",
     "text": [
      "     X    Y\n",
      "0  1.0  1.2\n",
      "1  1.3  1.0\n",
      "2  0.8  1.5\n",
      "3  5.0  4.8\n",
      "4  5.2  5.1\n"
     ]
    }
   ],
   "source": [
    "#  let say we have 10 points \n",
    "import pandas as pd\n",
    "\n",
    "# Define data (without header inside)\n",
    "points = [\n",
    "    [1, 1.0, 1.2],\n",
    "    [2, 1.3, 1.0],\n",
    "    [3, 0.8, 1.5],\n",
    "    [4, 5.0, 4.8],\n",
    "    [5, 5.2, 5.1],\n",
    "]\n",
    "\n",
    "# Create DataFrame with proper column names\n",
    "data = pd.DataFrame(points, columns=['ID', 'X', 'Y'])\n",
    "\n",
    "print(data.iloc[:,1:])\n"
   ]
  },
  {
   "cell_type": "code",
   "execution_count": 30,
   "id": "b4815332",
   "metadata": {},
   "outputs": [
    {
     "name": "stdout",
     "output_type": "stream",
     "text": [
      "[[0.         0.         0.         0.         0.        ]\n",
      " [0.36055513 0.         0.         0.         0.        ]\n",
      " [0.36055513 0.70710678 0.         0.         0.        ]\n",
      " [5.38144962 5.30377224 5.34134814 0.         0.        ]\n",
      " [5.73149195 5.65862174 5.68506816 0.36055513 0.        ]]\n"
     ]
    }
   ],
   "source": [
    "def Single_linked():\n",
    "    pass\n",
    "\n",
    "def DistanceMatrix(points):\n",
    "    n=points.shape[0]\n",
    "    mat=np.zeros((n,n))\n",
    "    for i in range(n):\n",
    "        for j in range(i+1):\n",
    "            mat[i,j]=np.linalg.norm( points.iloc[i,:] - points.iloc[j,:] )\n",
    "    return mat\n",
    "\n",
    "print(DistanceMatrix(data.iloc[:,1:]))"
   ]
  },
  {
   "cell_type": "code",
   "execution_count": 32,
   "id": "ef214cf9",
   "metadata": {},
   "outputs": [
    {
     "name": "stdout",
     "output_type": "stream",
     "text": [
      "Single-link merges: [([4], [3]), ([1], [0]), ([1, 0], [2]), ([1, 0, 2], [4, 3])]\n",
      "Complete-link merges: [([4], [3]), ([1], [0]), ([1, 0], [2]), ([1, 0, 2], [4, 3])]\n"
     ]
    }
   ],
   "source": [
    "\n",
    "\n",
    "def Agglomerative_Clustering(data, method='single'):\n",
    "    \"\"\"\n",
    "    Perform agglomerative hierarchical clustering dynamically for different linkage methods.\n",
    "    \n",
    "    Parameters:\n",
    "        data (DataFrame): DataFrame with features in columns (exclude ID column).\n",
    "        method (str): Linkage method: 'single', 'complete', 'average', 'ward'.\n",
    "    \n",
    "    Returns:\n",
    "        merge_sequence (list): List of merges as tuples of cluster indices.\n",
    "    \"\"\"\n",
    "    points = data.iloc[:, 1:].values\n",
    "    n = points.shape[0]\n",
    "    \n",
    "    # Initialize clusters: each point is its own cluster\n",
    "    clusters = [[i] for i in range(n)]\n",
    "    \n",
    "    # Precompute full distance matrix\n",
    "    dist_mat = np.linalg.norm(points[:, None, :] - points[None, :, :], axis=2)\n",
    "    np.fill_diagonal(dist_mat, np.inf)\n",
    "    \n",
    "    merge_sequence = []\n",
    "    \n",
    "    while len(clusters) > 1:\n",
    "        min_dist = np.inf\n",
    "        min_i, min_j = -1, -1\n",
    "        \n",
    "        # Find pair of clusters to merge\n",
    "        for i in range(len(clusters)):\n",
    "            for j in range(i):\n",
    "                # Extract all pairwise distances between clusters[i] and clusters[j]\n",
    "                pair_dists = dist_mat[np.ix_(clusters[i], clusters[j])]\n",
    "                \n",
    "                if method == 'single':\n",
    "                    d = np.min(pair_dists)\n",
    "                elif method == 'complete':\n",
    "                    d = np.max(pair_dists)\n",
    "                elif method == 'average':\n",
    "                    d = np.mean(pair_dists)\n",
    "                elif method == 'ward':\n",
    "                    # Compute increase in within-cluster variance if merged\n",
    "                    combined = clusters[i] + clusters[j]\n",
    "                    points_i_j = points[combined, :]\n",
    "                    d = np.sum((points_i_j - points_i_j.mean(axis=0))**2)\n",
    "                else:\n",
    "                    raise ValueError(\"Unknown method. Choose: 'single', 'complete', 'average', 'ward'.\")\n",
    "                \n",
    "                if d < min_dist:\n",
    "                    min_dist = d\n",
    "                    min_i, min_j = i, j\n",
    "        \n",
    "        # Merge the selected clusters\n",
    "        new_cluster = clusters[min_i] + clusters[min_j]\n",
    "        merge_sequence.append((clusters[min_i], clusters[min_j]))\n",
    "        \n",
    "        # Update cluster list\n",
    "        clusters = [clusters[k] for k in range(len(clusters)) if k not in (min_i, min_j)]\n",
    "        clusters.append(new_cluster)\n",
    "    \n",
    "    return merge_sequence\n",
    "\n",
    "# Example usage:\n",
    "merge_seq_single = Agglomerative_Clustering(data, method='single')\n",
    "merge_seq_complete = Agglomerative_Clustering(data, method='complete')\n",
    "merge_seq_avg = Agglomerative_Clustering(data, method='average')\n",
    "merge_seq_ward = Agglomerative_Clustering(data, method='ward')\n",
    "\n",
    "print(\"Single-link merges:\", merge_seq_single)\n",
    "print(\"Complete-link merges:\", merge_seq_complete)\n"
   ]
  }
 ],
 "metadata": {
  "kernelspec": {
   "display_name": "base",
   "language": "python",
   "name": "python3"
  },
  "language_info": {
   "codemirror_mode": {
    "name": "ipython",
    "version": 3
   },
   "file_extension": ".py",
   "mimetype": "text/x-python",
   "name": "python",
   "nbconvert_exporter": "python",
   "pygments_lexer": "ipython3",
   "version": "3.12.7"
  }
 },
 "nbformat": 4,
 "nbformat_minor": 5
}
